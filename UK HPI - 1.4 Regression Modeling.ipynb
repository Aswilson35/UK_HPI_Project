{
 "cells": [
  {
   "cell_type": "markdown",
   "id": "01d641d4",
   "metadata": {},
   "source": [
    "## UK House Price Index - Regression Modeling"
   ]
  },
  {
   "cell_type": "markdown",
   "id": "237f7ebc",
   "metadata": {},
   "source": [
    "### This script contains the following:\n",
    "1. Importing libraries and data\n",
    "2. Exploring the relationships between variables in dataset\n",
    "3. "
   ]
  },
  {
   "cell_type": "code",
   "execution_count": 2,
   "id": "2f6bc963",
   "metadata": {},
   "outputs": [],
   "source": [
    "# Import Libraries\n",
    "\n",
    "import pandas as pd\n",
    "import numpy as np\n",
    "import os\n",
    "import matplotlib.pyplot as plt\n",
    "import seaborn as sns\n",
    "import scipy\n",
    "import os\n",
    "import sklearn\n",
    "from sklearn.model_selection import train_test_split \n",
    "from sklearn.linear_model import LinearRegression\n",
    "from sklearn.metrics import mean_squared_error, r2_score\n",
    "from sklearn.cluster import KMeans # Here is where you import the k-means algorithm from scikit-learn.\n",
    "import pylab as pl # PyLab is a convenience module that bulk imports matplotlib.\n",
    "from datetime import datetime"
   ]
  },
  {
   "cell_type": "code",
   "execution_count": 3,
   "id": "ffe01df1",
   "metadata": {},
   "outputs": [],
   "source": [
    "path = r'/Users/andrew/Documents/Data Analyst Course/Data Immersion/Achievement 6/UK HPI Project/'"
   ]
  },
  {
   "cell_type": "code",
   "execution_count": 4,
   "id": "749a1fe3",
   "metadata": {},
   "outputs": [],
   "source": [
    "df = pd.read_csv(os.path.join(path, 'Data', 'Prepared Data', 'UK_HPI_CLEANED_1995.csv'))"
   ]
  },
  {
   "cell_type": "code",
   "execution_count": 5,
   "id": "7699ad4d",
   "metadata": {},
   "outputs": [
    {
     "data": {
      "text/html": [
       "<div>\n",
       "<style scoped>\n",
       "    .dataframe tbody tr th:only-of-type {\n",
       "        vertical-align: middle;\n",
       "    }\n",
       "\n",
       "    .dataframe tbody tr th {\n",
       "        vertical-align: top;\n",
       "    }\n",
       "\n",
       "    .dataframe thead th {\n",
       "        text-align: right;\n",
       "    }\n",
       "</style>\n",
       "<table border=\"1\" class=\"dataframe\">\n",
       "  <thead>\n",
       "    <tr style=\"text-align: right;\">\n",
       "      <th></th>\n",
       "      <th>Date</th>\n",
       "      <th>RegionName</th>\n",
       "      <th>AveragePrice</th>\n",
       "      <th>Index</th>\n",
       "      <th>1m%Change</th>\n",
       "      <th>12m%Change</th>\n",
       "      <th>SalesVolume</th>\n",
       "      <th>DetachedPrice</th>\n",
       "      <th>DetachedIndex</th>\n",
       "      <th>Detached1m%Change</th>\n",
       "      <th>...</th>\n",
       "      <th>NewIndex</th>\n",
       "      <th>New1m%Change</th>\n",
       "      <th>New12m%Change</th>\n",
       "      <th>NewSalesVolume</th>\n",
       "      <th>OldPrice</th>\n",
       "      <th>OldIndex</th>\n",
       "      <th>Old1m%Change</th>\n",
       "      <th>Old12m%Change</th>\n",
       "      <th>OldSalesVolume</th>\n",
       "      <th>Official Interest Rate</th>\n",
       "    </tr>\n",
       "  </thead>\n",
       "  <tbody>\n",
       "    <tr>\n",
       "      <th>0</th>\n",
       "      <td>1/1/1995</td>\n",
       "      <td>Adur</td>\n",
       "      <td>54516.42545</td>\n",
       "      <td>21.836620</td>\n",
       "      <td>0.0</td>\n",
       "      <td>0.0</td>\n",
       "      <td>79.0</td>\n",
       "      <td>85482.01252</td>\n",
       "      <td>22.699081</td>\n",
       "      <td>0.0</td>\n",
       "      <td>...</td>\n",
       "      <td>22.378461</td>\n",
       "      <td>0.0</td>\n",
       "      <td>0.0</td>\n",
       "      <td>11.0</td>\n",
       "      <td>54372.37389</td>\n",
       "      <td>21.788639</td>\n",
       "      <td>0.0</td>\n",
       "      <td>0.0</td>\n",
       "      <td>68.0</td>\n",
       "      <td>6.13</td>\n",
       "    </tr>\n",
       "    <tr>\n",
       "      <th>1</th>\n",
       "      <td>1/1/1995</td>\n",
       "      <td>Allerdale</td>\n",
       "      <td>44464.03724</td>\n",
       "      <td>32.815689</td>\n",
       "      <td>0.0</td>\n",
       "      <td>0.0</td>\n",
       "      <td>70.0</td>\n",
       "      <td>67547.91981</td>\n",
       "      <td>34.139554</td>\n",
       "      <td>0.0</td>\n",
       "      <td>...</td>\n",
       "      <td>33.876423</td>\n",
       "      <td>0.0</td>\n",
       "      <td>0.0</td>\n",
       "      <td>9.0</td>\n",
       "      <td>43138.66035</td>\n",
       "      <td>32.908903</td>\n",
       "      <td>0.0</td>\n",
       "      <td>0.0</td>\n",
       "      <td>61.0</td>\n",
       "      <td>6.13</td>\n",
       "    </tr>\n",
       "    <tr>\n",
       "      <th>2</th>\n",
       "      <td>1/1/1995</td>\n",
       "      <td>Amber Valley</td>\n",
       "      <td>45424.80814</td>\n",
       "      <td>31.551992</td>\n",
       "      <td>0.0</td>\n",
       "      <td>0.0</td>\n",
       "      <td>114.0</td>\n",
       "      <td>66983.19796</td>\n",
       "      <td>32.574116</td>\n",
       "      <td>0.0</td>\n",
       "      <td>...</td>\n",
       "      <td>31.262341</td>\n",
       "      <td>0.0</td>\n",
       "      <td>0.0</td>\n",
       "      <td>16.0</td>\n",
       "      <td>44721.87801</td>\n",
       "      <td>31.570205</td>\n",
       "      <td>0.0</td>\n",
       "      <td>0.0</td>\n",
       "      <td>98.0</td>\n",
       "      <td>6.13</td>\n",
       "    </tr>\n",
       "    <tr>\n",
       "      <th>3</th>\n",
       "      <td>1/1/1995</td>\n",
       "      <td>Arun</td>\n",
       "      <td>59473.60257</td>\n",
       "      <td>25.259505</td>\n",
       "      <td>0.0</td>\n",
       "      <td>0.0</td>\n",
       "      <td>222.0</td>\n",
       "      <td>95785.74537</td>\n",
       "      <td>25.677194</td>\n",
       "      <td>0.0</td>\n",
       "      <td>...</td>\n",
       "      <td>24.467387</td>\n",
       "      <td>0.0</td>\n",
       "      <td>0.0</td>\n",
       "      <td>21.0</td>\n",
       "      <td>58827.71158</td>\n",
       "      <td>25.301688</td>\n",
       "      <td>0.0</td>\n",
       "      <td>0.0</td>\n",
       "      <td>201.0</td>\n",
       "      <td>6.13</td>\n",
       "    </tr>\n",
       "    <tr>\n",
       "      <th>4</th>\n",
       "      <td>1/1/1995</td>\n",
       "      <td>Ashfield</td>\n",
       "      <td>38911.87777</td>\n",
       "      <td>33.500470</td>\n",
       "      <td>0.0</td>\n",
       "      <td>0.0</td>\n",
       "      <td>97.0</td>\n",
       "      <td>56968.65464</td>\n",
       "      <td>35.040323</td>\n",
       "      <td>0.0</td>\n",
       "      <td>...</td>\n",
       "      <td>32.748969</td>\n",
       "      <td>0.0</td>\n",
       "      <td>0.0</td>\n",
       "      <td>23.0</td>\n",
       "      <td>38664.77907</td>\n",
       "      <td>34.044514</td>\n",
       "      <td>0.0</td>\n",
       "      <td>0.0</td>\n",
       "      <td>74.0</td>\n",
       "      <td>6.13</td>\n",
       "    </tr>\n",
       "  </tbody>\n",
       "</table>\n",
       "<p>5 rows × 52 columns</p>\n",
       "</div>"
      ],
      "text/plain": [
       "       Date    RegionName  AveragePrice      Index  1m%Change  12m%Change  \\\n",
       "0  1/1/1995          Adur   54516.42545  21.836620        0.0         0.0   \n",
       "1  1/1/1995     Allerdale   44464.03724  32.815689        0.0         0.0   \n",
       "2  1/1/1995  Amber Valley   45424.80814  31.551992        0.0         0.0   \n",
       "3  1/1/1995          Arun   59473.60257  25.259505        0.0         0.0   \n",
       "4  1/1/1995      Ashfield   38911.87777  33.500470        0.0         0.0   \n",
       "\n",
       "   SalesVolume  DetachedPrice  DetachedIndex  Detached1m%Change  ...  \\\n",
       "0         79.0    85482.01252      22.699081                0.0  ...   \n",
       "1         70.0    67547.91981      34.139554                0.0  ...   \n",
       "2        114.0    66983.19796      32.574116                0.0  ...   \n",
       "3        222.0    95785.74537      25.677194                0.0  ...   \n",
       "4         97.0    56968.65464      35.040323                0.0  ...   \n",
       "\n",
       "    NewIndex  New1m%Change  New12m%Change  NewSalesVolume     OldPrice  \\\n",
       "0  22.378461           0.0            0.0            11.0  54372.37389   \n",
       "1  33.876423           0.0            0.0             9.0  43138.66035   \n",
       "2  31.262341           0.0            0.0            16.0  44721.87801   \n",
       "3  24.467387           0.0            0.0            21.0  58827.71158   \n",
       "4  32.748969           0.0            0.0            23.0  38664.77907   \n",
       "\n",
       "    OldIndex  Old1m%Change  Old12m%Change  OldSalesVolume  \\\n",
       "0  21.788639           0.0            0.0            68.0   \n",
       "1  32.908903           0.0            0.0            61.0   \n",
       "2  31.570205           0.0            0.0            98.0   \n",
       "3  25.301688           0.0            0.0           201.0   \n",
       "4  34.044514           0.0            0.0            74.0   \n",
       "\n",
       "   Official Interest Rate  \n",
       "0                    6.13  \n",
       "1                    6.13  \n",
       "2                    6.13  \n",
       "3                    6.13  \n",
       "4                    6.13  \n",
       "\n",
       "[5 rows x 52 columns]"
      ]
     },
     "execution_count": 5,
     "metadata": {},
     "output_type": "execute_result"
    }
   ],
   "source": [
    "df.head()"
   ]
  },
  {
   "cell_type": "code",
   "execution_count": 6,
   "id": "f02d889d",
   "metadata": {},
   "outputs": [
    {
     "data": {
      "text/plain": [
       "(130902, 52)"
      ]
     },
     "execution_count": 6,
     "metadata": {},
     "output_type": "execute_result"
    }
   ],
   "source": [
    "# Check shape of df\n",
    "df.shape"
   ]
  },
  {
   "cell_type": "code",
   "execution_count": 7,
   "id": "d3c99000",
   "metadata": {},
   "outputs": [
    {
     "data": {
      "image/png": "[encoded data removed]",
      "text/plain": [
       "<Figure size 432x288 with 1 Axes>"
      ]
     },
     "metadata": {
      "needs_background": "light"
     },
     "output_type": "display_data"
    }
   ],
   "source": [
    "# Create a scatterplot using matplotlib to look at how AveragePrice and Official Interest Rate variables plot against each other\n",
    "\n",
    "df.plot(x = 'AveragePrice', y='Official Interest Rate',style='o') # The style option creates a scatterplot; without it, we only have lines.\n",
    "plt.title('Average House Price vs Official Interest Rate')  \n",
    "plt.xlabel('Average House Price')  \n",
    "plt.ylabel('Official Interest Rate')  \n",
    "plt.show()"
   ]
  },
  {
   "cell_type": "code",
   "execution_count": 8,
   "id": "61a16784",
   "metadata": {},
   "outputs": [
    {
     "data": {
      "image/png": "[encoded data removed]",
      "text/plain": [
       "<Figure size 432x288 with 1 Axes>"
      ]
     },
     "metadata": {
      "needs_background": "light"
     },
     "output_type": "display_data"
    }
   ],
   "source": [
    "# Create a scatterplot using matplotlib to look at how Index and Official Interest Rate variables plot against each other.\n",
    "\n",
    "df.plot(x = 'Index', y='Official Interest Rate',style='o') # The style option creates a scatterplot; without it, we only have lines.\n",
    "plt.title('Average House Price Index vs Official Interest Rates')  \n",
    "plt.xlabel('average house price index')  \n",
    "plt.ylabel('Official Interest Rate')  \n",
    "plt.show()"
   ]
  },
  {
   "cell_type": "code",
   "execution_count": 10,
   "id": "0b2f4d8f",
   "metadata": {},
   "outputs": [
    {
     "name": "stderr",
     "output_type": "stream",
     "text": [
      "/Users/andrew/opt/anaconda3/lib/python3.8/site-packages/seaborn/distributions.py:2557: FutureWarning: `distplot` is a deprecated function and will be removed in a future version. Please adapt your code to use either `displot` (a figure-level function with similar flexibility) or `histplot` (an axes-level function for histograms).\n",
      "  warnings.warn(msg, FutureWarning)\n"
     ]
    },
    {
     "data": {
      "text/plain": [
       "<AxesSubplot:xlabel='AveragePrice', ylabel='Density'>"
      ]
     },
     "execution_count": 10,
     "metadata": {},
     "output_type": "execute_result"
    },
    {
     "data": {
      "image/png": "[encoded data removed]",
      "text/plain": [
       "<Figure size 432x288 with 1 Axes>"
      ]
     },
     "metadata": {
      "needs_background": "light"
     },
     "output_type": "display_data"
    }
   ],
   "source": [
    "sns.distplot(df['AveragePrice'], bins=25) # Shows extreme values\n",
    "\n",
    "# Some of the outliers in the high values may need to be removed, but let's try without doing so first."
   ]
  },
  {
   "cell_type": "code",
   "execution_count": 11,
   "id": "d6953afc",
   "metadata": {},
   "outputs": [
    {
     "data": {
      "text/plain": [
       "166940.73906664256"
      ]
     },
     "execution_count": 11,
     "metadata": {},
     "output_type": "execute_result"
    }
   ],
   "source": [
    "df['AveragePrice'].mean() # Check the mean"
   ]
  },
  {
   "cell_type": "code",
   "execution_count": 12,
   "id": "4c78d8ae",
   "metadata": {},
   "outputs": [
    {
     "data": {
      "text/plain": [
       "146726.3046"
      ]
     },
     "execution_count": 12,
     "metadata": {},
     "output_type": "execute_result"
    }
   ],
   "source": [
    "df['AveragePrice'].median() # Check the median"
   ]
  },
  {
   "cell_type": "code",
   "execution_count": 13,
   "id": "07e9fd52",
   "metadata": {},
   "outputs": [
    {
     "data": {
      "text/plain": [
       "1463377.921"
      ]
     },
     "execution_count": 13,
     "metadata": {},
     "output_type": "execute_result"
    }
   ],
   "source": [
    "df['AveragePrice'].max() # Check the max"
   ]
  },
  {
   "cell_type": "code",
   "execution_count": 14,
   "id": "00b6f7e0",
   "metadata": {},
   "outputs": [
    {
     "data": {
      "text/plain": [
       "23100.73416"
      ]
     },
     "execution_count": 14,
     "metadata": {},
     "output_type": "execute_result"
    }
   ],
   "source": [
    "df['AveragePrice'].min() # Check the min"
   ]
  },
  {
   "cell_type": "code",
   "execution_count": 15,
   "id": "0b08dbb9",
   "metadata": {},
   "outputs": [
    {
     "data": {
      "text/plain": [
       "Date                      0\n",
       "RegionName                0\n",
       "AveragePrice              0\n",
       "Index                     0\n",
       "1m%Change                 0\n",
       "12m%Change                0\n",
       "SalesVolume               0\n",
       "DetachedPrice             0\n",
       "DetachedIndex             0\n",
       "Detached1m%Change         0\n",
       "Detached12m%Change        0\n",
       "SemiDetachedPrice         0\n",
       "SemiDetachedIndex         0\n",
       "SemiDetached1m%Change     0\n",
       "SemiDetached12m%Change    0\n",
       "TerracedPrice             0\n",
       "TerracedIndex             0\n",
       "Terraced1m%Change         0\n",
       "Terraced12m%Change        0\n",
       "FlatPrice                 0\n",
       "FlatIndex                 0\n",
       "Flat1m%Change             0\n",
       "Flat12m%Change            0\n",
       "CashPrice                 0\n",
       "CashIndex                 0\n",
       "Cash1m%Change             0\n",
       "Cash12m%Change            0\n",
       "CashSalesVolume           0\n",
       "MortgagePrice             0\n",
       "MortgageIndex             0\n",
       "Mortgage1m%Change         0\n",
       "Mortgage12m%Change        0\n",
       "MortgageSalesVolume       0\n",
       "FTBPrice                  0\n",
       "FTBIndex                  0\n",
       "FTB1m%Change              0\n",
       "FTB12m%Change             0\n",
       "FOOPrice                  0\n",
       "FOOIndex                  0\n",
       "FOO1m%Change              0\n",
       "FOO12m%Change             0\n",
       "NewPrice                  0\n",
       "NewIndex                  0\n",
       "New1m%Change              0\n",
       "New12m%Change             0\n",
       "NewSalesVolume            0\n",
       "OldPrice                  0\n",
       "OldIndex                  0\n",
       "Old1m%Change              0\n",
       "Old12m%Change             0\n",
       "OldSalesVolume            0\n",
       "Official Interest Rate    0\n",
       "dtype: int64"
      ]
     },
     "execution_count": 15,
     "metadata": {},
     "output_type": "execute_result"
    }
   ],
   "source": [
    "df.isnull().sum()"
   ]
  },
  {
   "cell_type": "code",
   "execution_count": 17,
   "id": "1bc6b32f",
   "metadata": {},
   "outputs": [],
   "source": [
    "# Reshape the variables into NumPy arrays and put them into separate objects.\n",
    "\n",
    "X = df['AveragePrice'].values.reshape(-1,1)\n",
    "y = df['Official Interest Rate'].values.reshape(-1,1)"
   ]
  },
  {
   "cell_type": "code",
   "execution_count": 18,
   "id": "aab8b1d7",
   "metadata": {},
   "outputs": [
    {
     "data": {
      "text/plain": [
       "array([[ 54516.42545],\n",
       "       [ 44464.03724],\n",
       "       [ 45424.80814],\n",
       "       ...,\n",
       "       [218110.5708 ],\n",
       "       [295785.9352 ],\n",
       "       [194518.0643 ]])"
      ]
     },
     "execution_count": 18,
     "metadata": {},
     "output_type": "execute_result"
    }
   ],
   "source": [
    "X"
   ]
  },
  {
   "cell_type": "code",
   "execution_count": 19,
   "id": "645732d4",
   "metadata": {},
   "outputs": [
    {
     "data": {
      "text/plain": [
       "array([[6.13],\n",
       "       [6.13],\n",
       "       [6.13],\n",
       "       ...,\n",
       "       [0.1 ],\n",
       "       [0.1 ],\n",
       "       [0.1 ]])"
      ]
     },
     "execution_count": 19,
     "metadata": {},
     "output_type": "execute_result"
    }
   ],
   "source": [
    "y"
   ]
  },
  {
   "cell_type": "code",
   "execution_count": 20,
   "id": "4d23d591",
   "metadata": {},
   "outputs": [],
   "source": [
    "# Split data into a training set and a test set.\n",
    "\n",
    "X_train, X_test, y_train, y_test = train_test_split(X, y, test_size=0.3, random_state=0)"
   ]
  },
  {
   "cell_type": "code",
   "execution_count": 21,
   "id": "b45c3c1e",
   "metadata": {},
   "outputs": [],
   "source": [
    "# Create a regression object.\n",
    "\n",
    "regression = LinearRegression()  # This is the regression object, which will be fit onto the training set."
   ]
  },
  {
   "cell_type": "code",
   "execution_count": 22,
   "id": "0c138c04",
   "metadata": {},
   "outputs": [
    {
     "data": {
      "text/plain": [
       "LinearRegression()"
      ]
     },
     "execution_count": 22,
     "metadata": {},
     "output_type": "execute_result"
    }
   ],
   "source": [
    "# Fit the regression object onto the training set.\n",
    "\n",
    "regression.fit(X_train, y_train)"
   ]
  },
  {
   "cell_type": "code",
   "execution_count": 23,
   "id": "4b4540e6",
   "metadata": {},
   "outputs": [],
   "source": [
    "# Predict the values of y using X.\n",
    "\n",
    "y_predicted = regression.predict(X_test)"
   ]
  },
  {
   "cell_type": "code",
   "execution_count": 24,
   "id": "5d4ca8f5",
   "metadata": {},
   "outputs": [
    {
     "data": {
      "image/png": "[encoded data removed]",
      "text/plain": [
       "<Figure size 432x288 with 1 Axes>"
      ]
     },
     "metadata": {
      "needs_background": "light"
     },
     "output_type": "display_data"
    }
   ],
   "source": [
    "# Create a plot that shows the regression line from the model on the test set.\n",
    "\n",
    "plot_test = plt\n",
    "plot_test.scatter(X_test, y_test, color='gray', s = 15)\n",
    "plot_test.plot(X_test, y_predicted, color='red', linewidth =3)\n",
    "plot_test.title('Average House Price vs Official Interest Rate (Test set)')\n",
    "plot_test.xlabel('AveragePrice')\n",
    "plot_test.ylabel('Official Interest Rate')\n",
    "plot_test.show()"
   ]
  },
  {
   "cell_type": "code",
   "execution_count": 25,
   "id": "4a01e728",
   "metadata": {},
   "outputs": [],
   "source": [
    "# Create objects that contain the model summary statistics.\n",
    "\n",
    "rmse = mean_squared_error(y_test, y_predicted) # This is the mean squared error\n",
    "r2 = r2_score(y_test, y_predicted) # This is the R2 score. "
   ]
  },
  {
   "cell_type": "code",
   "execution_count": 26,
   "id": "f8fe987b",
   "metadata": {},
   "outputs": [
    {
     "name": "stdout",
     "output_type": "stream",
     "text": [
      "Slope: [[-1.12719166e-05]]\n",
      "Mean squared error:  4.843179209909571\n",
      "R2 score:  0.23341581570171288\n"
     ]
    }
   ],
   "source": [
    "# Print the model summary statistics. This is where you evaluate the performance of the model.\n",
    "\n",
    "print('Slope:' ,regression.coef_)\n",
    "print('Mean squared error: ', rmse)\n",
    "print('R2 score: ', r2)"
   ]
  },
  {
   "cell_type": "markdown",
   "id": "cf130f9c",
   "metadata": {},
   "source": [
    "## Comments\n",
    "MSE score is relatively small (4.8431) so regression could be used as a somewhat accurate measure however looking at the R2 score of 0.2334, that isn't a great fit either so may confirm that a different type of method is needed."
   ]
  },
  {
   "cell_type": "code",
   "execution_count": 27,
   "id": "b85da903",
   "metadata": {},
   "outputs": [
    {
     "data": {
      "text/plain": [
       "array([[ 3.2062443 ],\n",
       "       [ 1.29049925],\n",
       "       [ 2.54553798],\n",
       "       ...,\n",
       "       [-0.20637744],\n",
       "       [ 4.11605189],\n",
       "       [ 2.71375055]])"
      ]
     },
     "execution_count": 27,
     "metadata": {},
     "output_type": "execute_result"
    }
   ],
   "source": [
    "y_predicted"
   ]
  },
  {
   "cell_type": "code",
   "execution_count": 28,
   "id": "6830c528",
   "metadata": {},
   "outputs": [
    {
     "data": {
      "text/html": [
       "<div>\n",
       "<style scoped>\n",
       "    .dataframe tbody tr th:only-of-type {\n",
       "        vertical-align: middle;\n",
       "    }\n",
       "\n",
       "    .dataframe tbody tr th {\n",
       "        vertical-align: top;\n",
       "    }\n",
       "\n",
       "    .dataframe thead th {\n",
       "        text-align: right;\n",
       "    }\n",
       "</style>\n",
       "<table border=\"1\" class=\"dataframe\">\n",
       "  <thead>\n",
       "    <tr style=\"text-align: right;\">\n",
       "      <th></th>\n",
       "      <th>Actual</th>\n",
       "      <th>Predicted</th>\n",
       "    </tr>\n",
       "  </thead>\n",
       "  <tbody>\n",
       "    <tr>\n",
       "      <th>0</th>\n",
       "      <td>0.50</td>\n",
       "      <td>3.206244</td>\n",
       "    </tr>\n",
       "    <tr>\n",
       "      <th>1</th>\n",
       "      <td>0.50</td>\n",
       "      <td>1.290499</td>\n",
       "    </tr>\n",
       "    <tr>\n",
       "      <th>2</th>\n",
       "      <td>0.50</td>\n",
       "      <td>2.545538</td>\n",
       "    </tr>\n",
       "    <tr>\n",
       "      <th>3</th>\n",
       "      <td>6.00</td>\n",
       "      <td>3.858886</td>\n",
       "    </tr>\n",
       "    <tr>\n",
       "      <th>4</th>\n",
       "      <td>4.75</td>\n",
       "      <td>3.106368</td>\n",
       "    </tr>\n",
       "    <tr>\n",
       "      <th>5</th>\n",
       "      <td>0.25</td>\n",
       "      <td>2.829709</td>\n",
       "    </tr>\n",
       "    <tr>\n",
       "      <th>6</th>\n",
       "      <td>5.75</td>\n",
       "      <td>3.987849</td>\n",
       "    </tr>\n",
       "    <tr>\n",
       "      <th>7</th>\n",
       "      <td>0.50</td>\n",
       "      <td>2.799709</td>\n",
       "    </tr>\n",
       "    <tr>\n",
       "      <th>8</th>\n",
       "      <td>4.00</td>\n",
       "      <td>3.619063</td>\n",
       "    </tr>\n",
       "    <tr>\n",
       "      <th>9</th>\n",
       "      <td>0.50</td>\n",
       "      <td>3.551808</td>\n",
       "    </tr>\n",
       "    <tr>\n",
       "      <th>10</th>\n",
       "      <td>5.25</td>\n",
       "      <td>3.851073</td>\n",
       "    </tr>\n",
       "    <tr>\n",
       "      <th>11</th>\n",
       "      <td>6.63</td>\n",
       "      <td>4.189230</td>\n",
       "    </tr>\n",
       "    <tr>\n",
       "      <th>12</th>\n",
       "      <td>7.25</td>\n",
       "      <td>4.420669</td>\n",
       "    </tr>\n",
       "    <tr>\n",
       "      <th>13</th>\n",
       "      <td>0.25</td>\n",
       "      <td>3.324140</td>\n",
       "    </tr>\n",
       "    <tr>\n",
       "      <th>14</th>\n",
       "      <td>6.63</td>\n",
       "      <td>4.163643</td>\n",
       "    </tr>\n",
       "    <tr>\n",
       "      <th>15</th>\n",
       "      <td>0.25</td>\n",
       "      <td>3.100249</td>\n",
       "    </tr>\n",
       "    <tr>\n",
       "      <th>16</th>\n",
       "      <td>5.69</td>\n",
       "      <td>4.378331</td>\n",
       "    </tr>\n",
       "    <tr>\n",
       "      <th>17</th>\n",
       "      <td>5.69</td>\n",
       "      <td>4.093933</td>\n",
       "    </tr>\n",
       "    <tr>\n",
       "      <th>18</th>\n",
       "      <td>0.50</td>\n",
       "      <td>2.629678</td>\n",
       "    </tr>\n",
       "    <tr>\n",
       "      <th>19</th>\n",
       "      <td>0.50</td>\n",
       "      <td>3.340343</td>\n",
       "    </tr>\n",
       "    <tr>\n",
       "      <th>20</th>\n",
       "      <td>0.75</td>\n",
       "      <td>1.326140</td>\n",
       "    </tr>\n",
       "    <tr>\n",
       "      <th>21</th>\n",
       "      <td>0.50</td>\n",
       "      <td>2.466909</td>\n",
       "    </tr>\n",
       "    <tr>\n",
       "      <th>22</th>\n",
       "      <td>0.75</td>\n",
       "      <td>2.144558</td>\n",
       "    </tr>\n",
       "    <tr>\n",
       "      <th>23</th>\n",
       "      <td>0.50</td>\n",
       "      <td>2.375009</td>\n",
       "    </tr>\n",
       "    <tr>\n",
       "      <th>24</th>\n",
       "      <td>0.75</td>\n",
       "      <td>3.025102</td>\n",
       "    </tr>\n",
       "    <tr>\n",
       "      <th>25</th>\n",
       "      <td>0.50</td>\n",
       "      <td>3.054530</td>\n",
       "    </tr>\n",
       "    <tr>\n",
       "      <th>26</th>\n",
       "      <td>0.50</td>\n",
       "      <td>2.927925</td>\n",
       "    </tr>\n",
       "    <tr>\n",
       "      <th>27</th>\n",
       "      <td>6.00</td>\n",
       "      <td>4.069394</td>\n",
       "    </tr>\n",
       "    <tr>\n",
       "      <th>28</th>\n",
       "      <td>3.50</td>\n",
       "      <td>3.749283</td>\n",
       "    </tr>\n",
       "    <tr>\n",
       "      <th>29</th>\n",
       "      <td>0.50</td>\n",
       "      <td>3.300340</td>\n",
       "    </tr>\n",
       "  </tbody>\n",
       "</table>\n",
       "</div>"
      ],
      "text/plain": [
       "    Actual  Predicted\n",
       "0     0.50   3.206244\n",
       "1     0.50   1.290499\n",
       "2     0.50   2.545538\n",
       "3     6.00   3.858886\n",
       "4     4.75   3.106368\n",
       "5     0.25   2.829709\n",
       "6     5.75   3.987849\n",
       "7     0.50   2.799709\n",
       "8     4.00   3.619063\n",
       "9     0.50   3.551808\n",
       "10    5.25   3.851073\n",
       "11    6.63   4.189230\n",
       "12    7.25   4.420669\n",
       "13    0.25   3.324140\n",
       "14    6.63   4.163643\n",
       "15    0.25   3.100249\n",
       "16    5.69   4.378331\n",
       "17    5.69   4.093933\n",
       "18    0.50   2.629678\n",
       "19    0.50   3.340343\n",
       "20    0.75   1.326140\n",
       "21    0.50   2.466909\n",
       "22    0.75   2.144558\n",
       "23    0.50   2.375009\n",
       "24    0.75   3.025102\n",
       "25    0.50   3.054530\n",
       "26    0.50   2.927925\n",
       "27    6.00   4.069394\n",
       "28    3.50   3.749283\n",
       "29    0.50   3.300340"
      ]
     },
     "execution_count": 28,
     "metadata": {},
     "output_type": "execute_result"
    }
   ],
   "source": [
    "# Create a dataframe comparing the actual and predicted values of y.\n",
    "\n",
    "data = pd.DataFrame({'Actual': y_test.flatten(), 'Predicted': y_predicted.flatten()})\n",
    "data.head(30)"
   ]
  },
  {
   "cell_type": "markdown",
   "id": "d163c544",
   "metadata": {},
   "source": [
    "## Comparing how regression fits the training set"
   ]
  },
  {
   "cell_type": "code",
   "execution_count": 29,
   "id": "b74ab234",
   "metadata": {},
   "outputs": [],
   "source": [
    "# Predict.\n",
    "\n",
    "y_predicted_train = regression.predict(X_train) # This is predicting X_train!"
   ]
  },
  {
   "cell_type": "code",
   "execution_count": 30,
   "id": "ac90deef",
   "metadata": {},
   "outputs": [],
   "source": [
    "rmse = mean_squared_error(y_train, y_predicted_train)\n",
    "r2 = r2_score(y_train, y_predicted_train)"
   ]
  },
  {
   "cell_type": "code",
   "execution_count": 31,
   "id": "df032464",
   "metadata": {},
   "outputs": [
    {
     "name": "stdout",
     "output_type": "stream",
     "text": [
      "Slope: [[-1.12719166e-05]]\n",
      "Mean squared error:  4.810542304078024\n",
      "R2 score:  0.2379652023845764\n"
     ]
    }
   ],
   "source": [
    "print('Slope:' ,regression.coef_)\n",
    "print('Mean squared error: ', rmse)\n",
    "print('R2 score: ', r2)"
   ]
  },
  {
   "cell_type": "code",
   "execution_count": 32,
   "id": "7a5ba64d",
   "metadata": {},
   "outputs": [
    {
     "data": {
      "image/png": "[encoded data removed]",
      "text/plain": [
       "<Figure size 432x288 with 1 Axes>"
      ]
     },
     "metadata": {
      "needs_background": "light"
     },
     "output_type": "display_data"
    }
   ],
   "source": [
    "# Visualizing the training set results.\n",
    "\n",
    "plot_test = plt\n",
    "plot_test.scatter(X_train, y_train, color='green', s = 15)\n",
    "plot_test.plot(X_train, y_predicted_train, color='red', linewidth =3)\n",
    "plot_test.title('Average House Price vs Historical Interest Rates (Test set)')\n",
    "plot_test.xlabel('Average House Price')\n",
    "plot_test.ylabel('Official Interest Rate')\n",
    "plot_test.show()"
   ]
  },
  {
   "cell_type": "markdown",
   "id": "63b1bf14",
   "metadata": {},
   "source": [
    "## Comments\n",
    "The mean squared erorr was relatively small at 4.8105 whilst the R2 score was 0.2379, when both measures are taken together it could be said that this model isn't a great fit. One of my working hypothesis was that in a low interest rate environment, house prices rise. While it does seem that this is partially true, these two measures suggest a weaker link that initially thought."
   ]
  },
  {
   "cell_type": "code",
   "execution_count": null,
   "id": "9113c884",
   "metadata": {},
   "outputs": [],
   "source": []
  },
  {
   "cell_type": "code",
   "execution_count": null,
   "id": "fad2fea5",
   "metadata": {},
   "outputs": [],
   "source": []
  }
 ],
 "metadata": {
  "kernelspec": {
   "display_name": "Python 3",
   "language": "python",
   "name": "python3"
  },
  "language_info": {
   "codemirror_mode": {
    "name": "ipython",
    "version": 3
   },
   "file_extension": ".py",
   "mimetype": "text/x-python",
   "name": "python",
   "nbconvert_exporter": "python",
   "pygments_lexer": "ipython3",
   "version": "3.8.8"
  }
 },
 "nbformat": 4,
 "nbformat_minor": 5
}
